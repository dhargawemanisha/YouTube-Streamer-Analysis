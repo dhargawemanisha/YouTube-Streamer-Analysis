{
 "cells": [
  {
   "cell_type": "markdown",
   "id": "e2a4567d",
   "metadata": {},
   "source": [
    "# Load the dataset"
   ]
  },
  {
   "cell_type": "code",
   "execution_count": 1,
   "id": "d133f5ba",
   "metadata": {},
   "outputs": [],
   "source": [
    "import pandas as pd\n",
    "import seaborn as sns\n",
    "df=pd.read_csv(\"C:/Users/Manis/OneDrive/Desktop/task-1 streamer analysis.csv\")"
   ]
  },
  {
   "cell_type": "code",
   "execution_count": 2,
   "id": "0b66bec4",
   "metadata": {},
   "outputs": [
    {
     "data": {
      "text/html": [
       "<div>\n",
       "<style scoped>\n",
       "    .dataframe tbody tr th:only-of-type {\n",
       "        vertical-align: middle;\n",
       "    }\n",
       "\n",
       "    .dataframe tbody tr th {\n",
       "        vertical-align: top;\n",
       "    }\n",
       "\n",
       "    .dataframe thead th {\n",
       "        text-align: right;\n",
       "    }\n",
       "</style>\n",
       "<table border=\"1\" class=\"dataframe\">\n",
       "  <thead>\n",
       "    <tr style=\"text-align: right;\">\n",
       "      <th></th>\n",
       "      <th>Rank</th>\n",
       "      <th>Username</th>\n",
       "      <th>Categories</th>\n",
       "      <th>Subscribers</th>\n",
       "      <th>Country</th>\n",
       "      <th>Visits</th>\n",
       "      <th>Likes</th>\n",
       "      <th>Comments</th>\n",
       "      <th>Links</th>\n",
       "    </tr>\n",
       "  </thead>\n",
       "  <tbody>\n",
       "    <tr>\n",
       "      <th>0</th>\n",
       "      <td>1</td>\n",
       "      <td>tseries</td>\n",
       "      <td>Música y baile</td>\n",
       "      <td>249500000</td>\n",
       "      <td>India</td>\n",
       "      <td>86200.0</td>\n",
       "      <td>2700</td>\n",
       "      <td>78</td>\n",
       "      <td>http://youtube.com/channel/UCq-Fj5jknLsUf-MWSy...</td>\n",
       "    </tr>\n",
       "    <tr>\n",
       "      <th>1</th>\n",
       "      <td>2</td>\n",
       "      <td>MrBeast</td>\n",
       "      <td>Videojuegos, Humor</td>\n",
       "      <td>183500000</td>\n",
       "      <td>Estados Unidos</td>\n",
       "      <td>117400000.0</td>\n",
       "      <td>5300000</td>\n",
       "      <td>18500</td>\n",
       "      <td>http://youtube.com/channel/UCX6OQ3DkcsbYNE6H8u...</td>\n",
       "    </tr>\n",
       "    <tr>\n",
       "      <th>2</th>\n",
       "      <td>3</td>\n",
       "      <td>CoComelon</td>\n",
       "      <td>Educación</td>\n",
       "      <td>165500000</td>\n",
       "      <td>Unknown</td>\n",
       "      <td>7000000.0</td>\n",
       "      <td>24700</td>\n",
       "      <td>0</td>\n",
       "      <td>http://youtube.com/channel/UCbCmjCuTUZos6Inko4...</td>\n",
       "    </tr>\n",
       "    <tr>\n",
       "      <th>3</th>\n",
       "      <td>4</td>\n",
       "      <td>SETIndia</td>\n",
       "      <td>NaN</td>\n",
       "      <td>162600000</td>\n",
       "      <td>India</td>\n",
       "      <td>15600.0</td>\n",
       "      <td>166</td>\n",
       "      <td>9</td>\n",
       "      <td>http://youtube.com/channel/UCpEhnqL0y41EpW2TvW...</td>\n",
       "    </tr>\n",
       "    <tr>\n",
       "      <th>4</th>\n",
       "      <td>5</td>\n",
       "      <td>KidsDianaShow</td>\n",
       "      <td>Animación, Juguetes</td>\n",
       "      <td>113500000</td>\n",
       "      <td>Unknown</td>\n",
       "      <td>3900000.0</td>\n",
       "      <td>12400</td>\n",
       "      <td>0</td>\n",
       "      <td>http://youtube.com/channel/UCk8GzjMOrta8yxDcKf...</td>\n",
       "    </tr>\n",
       "  </tbody>\n",
       "</table>\n",
       "</div>"
      ],
      "text/plain": [
       "   Rank       Username           Categories  Subscribers         Country  \\\n",
       "0     1        tseries       Música y baile    249500000           India   \n",
       "1     2        MrBeast   Videojuegos, Humor    183500000  Estados Unidos   \n",
       "2     3      CoComelon            Educación    165500000         Unknown   \n",
       "3     4       SETIndia                  NaN    162600000           India   \n",
       "4     5  KidsDianaShow  Animación, Juguetes    113500000         Unknown   \n",
       "\n",
       "        Visits    Likes  Comments  \\\n",
       "0      86200.0     2700        78   \n",
       "1  117400000.0  5300000     18500   \n",
       "2    7000000.0    24700         0   \n",
       "3      15600.0      166         9   \n",
       "4    3900000.0    12400         0   \n",
       "\n",
       "                                               Links  \n",
       "0  http://youtube.com/channel/UCq-Fj5jknLsUf-MWSy...  \n",
       "1  http://youtube.com/channel/UCX6OQ3DkcsbYNE6H8u...  \n",
       "2  http://youtube.com/channel/UCbCmjCuTUZos6Inko4...  \n",
       "3  http://youtube.com/channel/UCpEhnqL0y41EpW2TvW...  \n",
       "4  http://youtube.com/channel/UCk8GzjMOrta8yxDcKf...  "
      ]
     },
     "execution_count": 2,
     "metadata": {},
     "output_type": "execute_result"
    }
   ],
   "source": [
    "df.head()"
   ]
  },
  {
   "cell_type": "markdown",
   "id": "9f049a32",
   "metadata": {},
   "source": [
    "# Data Exploration:\n",
    "1) Start by exploring the dataset to understand its structure and identify key variables.\n",
    "\n",
    "2) Check for missing data and outliers"
   ]
  },
  {
   "cell_type": "code",
   "execution_count": 3,
   "id": "5100f206",
   "metadata": {},
   "outputs": [
    {
     "name": "stdout",
     "output_type": "stream",
     "text": [
      "<class 'pandas.core.frame.DataFrame'>\n",
      "RangeIndex: 1000 entries, 0 to 999\n",
      "Data columns (total 9 columns):\n",
      " #   Column       Non-Null Count  Dtype  \n",
      "---  ------       --------------  -----  \n",
      " 0   Rank         1000 non-null   int64  \n",
      " 1   Username     1000 non-null   object \n",
      " 2   Categories   694 non-null    object \n",
      " 3   Subscribers  1000 non-null   int64  \n",
      " 4   Country      1000 non-null   object \n",
      " 5   Visits       1000 non-null   float64\n",
      " 6   Likes        1000 non-null   int64  \n",
      " 7   Comments     1000 non-null   int64  \n",
      " 8   Links        1000 non-null   object \n",
      "dtypes: float64(1), int64(4), object(4)\n",
      "memory usage: 70.4+ KB\n"
     ]
    }
   ],
   "source": [
    "df.info()"
   ]
  },
  {
   "cell_type": "code",
   "execution_count": 4,
   "id": "a5e06ad1",
   "metadata": {},
   "outputs": [
    {
     "data": {
      "text/html": [
       "<div>\n",
       "<style scoped>\n",
       "    .dataframe tbody tr th:only-of-type {\n",
       "        vertical-align: middle;\n",
       "    }\n",
       "\n",
       "    .dataframe tbody tr th {\n",
       "        vertical-align: top;\n",
       "    }\n",
       "\n",
       "    .dataframe thead th {\n",
       "        text-align: right;\n",
       "    }\n",
       "</style>\n",
       "<table border=\"1\" class=\"dataframe\">\n",
       "  <thead>\n",
       "    <tr style=\"text-align: right;\">\n",
       "      <th></th>\n",
       "      <th>Rank</th>\n",
       "      <th>Subscribers</th>\n",
       "      <th>Visits</th>\n",
       "      <th>Likes</th>\n",
       "      <th>Comments</th>\n",
       "    </tr>\n",
       "  </thead>\n",
       "  <tbody>\n",
       "    <tr>\n",
       "      <th>count</th>\n",
       "      <td>1000.000000</td>\n",
       "      <td>1.000000e+03</td>\n",
       "      <td>1.000000e+03</td>\n",
       "      <td>1.000000e+03</td>\n",
       "      <td>1000.000000</td>\n",
       "    </tr>\n",
       "    <tr>\n",
       "      <th>mean</th>\n",
       "      <td>500.500000</td>\n",
       "      <td>2.189440e+07</td>\n",
       "      <td>1.209446e+06</td>\n",
       "      <td>5.363259e+04</td>\n",
       "      <td>1288.768000</td>\n",
       "    </tr>\n",
       "    <tr>\n",
       "      <th>std</th>\n",
       "      <td>288.819436</td>\n",
       "      <td>1.682775e+07</td>\n",
       "      <td>5.229942e+06</td>\n",
       "      <td>2.580457e+05</td>\n",
       "      <td>6778.188308</td>\n",
       "    </tr>\n",
       "    <tr>\n",
       "      <th>min</th>\n",
       "      <td>1.000000</td>\n",
       "      <td>1.170000e+07</td>\n",
       "      <td>0.000000e+00</td>\n",
       "      <td>0.000000e+00</td>\n",
       "      <td>0.000000</td>\n",
       "    </tr>\n",
       "    <tr>\n",
       "      <th>25%</th>\n",
       "      <td>250.750000</td>\n",
       "      <td>1.380000e+07</td>\n",
       "      <td>3.197500e+04</td>\n",
       "      <td>4.717500e+02</td>\n",
       "      <td>2.000000</td>\n",
       "    </tr>\n",
       "    <tr>\n",
       "      <th>50%</th>\n",
       "      <td>500.500000</td>\n",
       "      <td>1.675000e+07</td>\n",
       "      <td>1.744500e+05</td>\n",
       "      <td>3.500000e+03</td>\n",
       "      <td>67.000000</td>\n",
       "    </tr>\n",
       "    <tr>\n",
       "      <th>75%</th>\n",
       "      <td>750.250000</td>\n",
       "      <td>2.370000e+07</td>\n",
       "      <td>8.654750e+05</td>\n",
       "      <td>2.865000e+04</td>\n",
       "      <td>472.000000</td>\n",
       "    </tr>\n",
       "    <tr>\n",
       "      <th>max</th>\n",
       "      <td>1000.000000</td>\n",
       "      <td>2.495000e+08</td>\n",
       "      <td>1.174000e+08</td>\n",
       "      <td>5.300000e+06</td>\n",
       "      <td>154000.000000</td>\n",
       "    </tr>\n",
       "  </tbody>\n",
       "</table>\n",
       "</div>"
      ],
      "text/plain": [
       "              Rank   Subscribers        Visits         Likes       Comments\n",
       "count  1000.000000  1.000000e+03  1.000000e+03  1.000000e+03    1000.000000\n",
       "mean    500.500000  2.189440e+07  1.209446e+06  5.363259e+04    1288.768000\n",
       "std     288.819436  1.682775e+07  5.229942e+06  2.580457e+05    6778.188308\n",
       "min       1.000000  1.170000e+07  0.000000e+00  0.000000e+00       0.000000\n",
       "25%     250.750000  1.380000e+07  3.197500e+04  4.717500e+02       2.000000\n",
       "50%     500.500000  1.675000e+07  1.744500e+05  3.500000e+03      67.000000\n",
       "75%     750.250000  2.370000e+07  8.654750e+05  2.865000e+04     472.000000\n",
       "max    1000.000000  2.495000e+08  1.174000e+08  5.300000e+06  154000.000000"
      ]
     },
     "execution_count": 4,
     "metadata": {},
     "output_type": "execute_result"
    }
   ],
   "source": [
    "df.describe()"
   ]
  },
  {
   "cell_type": "code",
   "execution_count": 5,
   "id": "ecb80bb1",
   "metadata": {},
   "outputs": [
    {
     "data": {
      "text/plain": [
       "Rank             int64\n",
       "Username        object\n",
       "Categories      object\n",
       "Subscribers      int64\n",
       "Country         object\n",
       "Visits         float64\n",
       "Likes            int64\n",
       "Comments         int64\n",
       "Links           object\n",
       "dtype: object"
      ]
     },
     "execution_count": 5,
     "metadata": {},
     "output_type": "execute_result"
    }
   ],
   "source": [
    "df.dtypes"
   ]
  },
  {
   "cell_type": "code",
   "execution_count": 6,
   "id": "c00252be",
   "metadata": {},
   "outputs": [
    {
     "data": {
      "text/plain": [
       "Index(['Rank', 'Username', 'Categories', 'Subscribers', 'Country', 'Visits',\n",
       "       'Likes', 'Comments', 'Links'],\n",
       "      dtype='object')"
      ]
     },
     "execution_count": 6,
     "metadata": {},
     "output_type": "execute_result"
    }
   ],
   "source": [
    "df.columns"
   ]
  },
  {
   "cell_type": "code",
   "execution_count": 7,
   "id": "167792bd",
   "metadata": {},
   "outputs": [
    {
     "data": {
      "text/plain": [
       "array(['Música y baile', 'Videojuegos, Humor', 'Educación', nan,\n",
       "       'Animación, Juguetes', 'Películas, Videojuegos', 'Juguetes',\n",
       "       'Videojuegos', 'Películas, Animación', 'Películas',\n",
       "       'Noticias y Política', 'Animación, Humor',\n",
       "       'Música y baile, Animación', 'Música y baile, Películas',\n",
       "       'Películas, Juguetes', 'Películas, Humor', 'Vlogs diarios',\n",
       "       'Videojuegos, Juguetes', 'Animación, Videojuegos', 'Animación',\n",
       "       'Música y baile, Humor', 'Diseño/arte, DIY y Life Hacks',\n",
       "       'Ciencia y tecnología', 'Fitness, Salud y autoayuda',\n",
       "       'Belleza, Moda', 'Humor', 'Comida y bebida', 'Deportes', 'Fitness',\n",
       "       'Viajes, Espectáculos', 'Comida y bebida, Salud y autoayuda',\n",
       "       'Diseño/arte', 'DIY y Life Hacks, Juguetes', 'Educación, Juguetes',\n",
       "       'Juguetes, Coches y vehículos', 'Música y baile, Juguetes',\n",
       "       'Animales y mascotas', 'ASMR', 'Moda', 'DIY y Life Hacks',\n",
       "       'Diseño/arte, Belleza', 'Coches y vehículos',\n",
       "       'Animación, Humor, Juguetes', 'ASMR, Comida y bebida',\n",
       "       'Comida y bebida, Juguetes', 'Juguetes, DIY y Life Hacks'],\n",
       "      dtype=object)"
      ]
     },
     "execution_count": 7,
     "metadata": {},
     "output_type": "execute_result"
    }
   ],
   "source": [
    "df[\"Categories\"].unique()"
   ]
  },
  {
   "cell_type": "code",
   "execution_count": 8,
   "id": "20d4e879",
   "metadata": {},
   "outputs": [],
   "source": [
    "df1 = df[~(df['Categories'].isna())]"
   ]
  },
  {
   "cell_type": "code",
   "execution_count": 9,
   "id": "a04247a1",
   "metadata": {},
   "outputs": [
    {
     "data": {
      "text/html": [
       "<div>\n",
       "<style scoped>\n",
       "    .dataframe tbody tr th:only-of-type {\n",
       "        vertical-align: middle;\n",
       "    }\n",
       "\n",
       "    .dataframe tbody tr th {\n",
       "        vertical-align: top;\n",
       "    }\n",
       "\n",
       "    .dataframe thead th {\n",
       "        text-align: right;\n",
       "    }\n",
       "</style>\n",
       "<table border=\"1\" class=\"dataframe\">\n",
       "  <thead>\n",
       "    <tr style=\"text-align: right;\">\n",
       "      <th></th>\n",
       "      <th>Rank</th>\n",
       "      <th>Username</th>\n",
       "      <th>Categories</th>\n",
       "      <th>Subscribers</th>\n",
       "      <th>Country</th>\n",
       "      <th>Visits</th>\n",
       "      <th>Likes</th>\n",
       "      <th>Comments</th>\n",
       "      <th>Links</th>\n",
       "    </tr>\n",
       "  </thead>\n",
       "  <tbody>\n",
       "    <tr>\n",
       "      <th>0</th>\n",
       "      <td>1</td>\n",
       "      <td>tseries</td>\n",
       "      <td>Música y baile</td>\n",
       "      <td>249500000</td>\n",
       "      <td>India</td>\n",
       "      <td>86200.0</td>\n",
       "      <td>2700</td>\n",
       "      <td>78</td>\n",
       "      <td>http://youtube.com/channel/UCq-Fj5jknLsUf-MWSy...</td>\n",
       "    </tr>\n",
       "    <tr>\n",
       "      <th>1</th>\n",
       "      <td>2</td>\n",
       "      <td>MrBeast</td>\n",
       "      <td>Videojuegos, Humor</td>\n",
       "      <td>183500000</td>\n",
       "      <td>Estados Unidos</td>\n",
       "      <td>117400000.0</td>\n",
       "      <td>5300000</td>\n",
       "      <td>18500</td>\n",
       "      <td>http://youtube.com/channel/UCX6OQ3DkcsbYNE6H8u...</td>\n",
       "    </tr>\n",
       "    <tr>\n",
       "      <th>2</th>\n",
       "      <td>3</td>\n",
       "      <td>CoComelon</td>\n",
       "      <td>Educación</td>\n",
       "      <td>165500000</td>\n",
       "      <td>Unknown</td>\n",
       "      <td>7000000.0</td>\n",
       "      <td>24700</td>\n",
       "      <td>0</td>\n",
       "      <td>http://youtube.com/channel/UCbCmjCuTUZos6Inko4...</td>\n",
       "    </tr>\n",
       "    <tr>\n",
       "      <th>4</th>\n",
       "      <td>5</td>\n",
       "      <td>KidsDianaShow</td>\n",
       "      <td>Animación, Juguetes</td>\n",
       "      <td>113500000</td>\n",
       "      <td>Unknown</td>\n",
       "      <td>3900000.0</td>\n",
       "      <td>12400</td>\n",
       "      <td>0</td>\n",
       "      <td>http://youtube.com/channel/UCk8GzjMOrta8yxDcKf...</td>\n",
       "    </tr>\n",
       "    <tr>\n",
       "      <th>5</th>\n",
       "      <td>6</td>\n",
       "      <td>PewDiePie</td>\n",
       "      <td>Películas, Videojuegos</td>\n",
       "      <td>111500000</td>\n",
       "      <td>Estados Unidos</td>\n",
       "      <td>2400000.0</td>\n",
       "      <td>197300</td>\n",
       "      <td>4900</td>\n",
       "      <td>http://youtube.com/channel/UC-lHJZR3Gqxm24_Vd_...</td>\n",
       "    </tr>\n",
       "    <tr>\n",
       "      <th>...</th>\n",
       "      <td>...</td>\n",
       "      <td>...</td>\n",
       "      <td>...</td>\n",
       "      <td>...</td>\n",
       "      <td>...</td>\n",
       "      <td>...</td>\n",
       "      <td>...</td>\n",
       "      <td>...</td>\n",
       "      <td>...</td>\n",
       "    </tr>\n",
       "    <tr>\n",
       "      <th>989</th>\n",
       "      <td>990</td>\n",
       "      <td>cut</td>\n",
       "      <td>Humor</td>\n",
       "      <td>11700000</td>\n",
       "      <td>Estados Unidos</td>\n",
       "      <td>359000.0</td>\n",
       "      <td>8800</td>\n",
       "      <td>342</td>\n",
       "      <td>http://youtube.com/channel/UCbaGn5VkOVlcRgIWAH...</td>\n",
       "    </tr>\n",
       "    <tr>\n",
       "      <th>990</th>\n",
       "      <td>991</td>\n",
       "      <td>JoeHattab</td>\n",
       "      <td>Películas</td>\n",
       "      <td>11700000</td>\n",
       "      <td>Somalia</td>\n",
       "      <td>1900000.0</td>\n",
       "      <td>98500</td>\n",
       "      <td>2900</td>\n",
       "      <td>http://youtube.com/channel/UCe6eisvsctSPvBhmin...</td>\n",
       "    </tr>\n",
       "    <tr>\n",
       "      <th>991</th>\n",
       "      <td>992</td>\n",
       "      <td>BeAmazed</td>\n",
       "      <td>Educación</td>\n",
       "      <td>11700000</td>\n",
       "      <td>Estados Unidos</td>\n",
       "      <td>477800.0</td>\n",
       "      <td>9900</td>\n",
       "      <td>556</td>\n",
       "      <td>http://youtube.com/channel/UCkQO3QsgTpNTsOw6uj...</td>\n",
       "    </tr>\n",
       "    <tr>\n",
       "      <th>997</th>\n",
       "      <td>998</td>\n",
       "      <td>LittleAngelIndonesia</td>\n",
       "      <td>Música y baile</td>\n",
       "      <td>11700000</td>\n",
       "      <td>Unknown</td>\n",
       "      <td>211400.0</td>\n",
       "      <td>745</td>\n",
       "      <td>0</td>\n",
       "      <td>http://youtube.com/channel/UCdrHrQf0o0TO8YDntX...</td>\n",
       "    </tr>\n",
       "    <tr>\n",
       "      <th>999</th>\n",
       "      <td>1000</td>\n",
       "      <td>OneindiaHindi</td>\n",
       "      <td>Noticias y Política</td>\n",
       "      <td>11700000</td>\n",
       "      <td>India</td>\n",
       "      <td>2200.0</td>\n",
       "      <td>31</td>\n",
       "      <td>1</td>\n",
       "      <td>http://youtube.com/channel/UCOjgc1p2hJ4GZi6pQQ...</td>\n",
       "    </tr>\n",
       "  </tbody>\n",
       "</table>\n",
       "<p>694 rows × 9 columns</p>\n",
       "</div>"
      ],
      "text/plain": [
       "     Rank              Username              Categories  Subscribers  \\\n",
       "0       1               tseries          Música y baile    249500000   \n",
       "1       2               MrBeast      Videojuegos, Humor    183500000   \n",
       "2       3             CoComelon               Educación    165500000   \n",
       "4       5         KidsDianaShow     Animación, Juguetes    113500000   \n",
       "5       6             PewDiePie  Películas, Videojuegos    111500000   \n",
       "..    ...                   ...                     ...          ...   \n",
       "989   990                   cut                   Humor     11700000   \n",
       "990   991             JoeHattab               Películas     11700000   \n",
       "991   992              BeAmazed               Educación     11700000   \n",
       "997   998  LittleAngelIndonesia          Música y baile     11700000   \n",
       "999  1000         OneindiaHindi     Noticias y Política     11700000   \n",
       "\n",
       "            Country       Visits    Likes  Comments  \\\n",
       "0             India      86200.0     2700        78   \n",
       "1    Estados Unidos  117400000.0  5300000     18500   \n",
       "2           Unknown    7000000.0    24700         0   \n",
       "4           Unknown    3900000.0    12400         0   \n",
       "5    Estados Unidos    2400000.0   197300      4900   \n",
       "..              ...          ...      ...       ...   \n",
       "989  Estados Unidos     359000.0     8800       342   \n",
       "990         Somalia    1900000.0    98500      2900   \n",
       "991  Estados Unidos     477800.0     9900       556   \n",
       "997         Unknown     211400.0      745         0   \n",
       "999           India       2200.0       31         1   \n",
       "\n",
       "                                                 Links  \n",
       "0    http://youtube.com/channel/UCq-Fj5jknLsUf-MWSy...  \n",
       "1    http://youtube.com/channel/UCX6OQ3DkcsbYNE6H8u...  \n",
       "2    http://youtube.com/channel/UCbCmjCuTUZos6Inko4...  \n",
       "4    http://youtube.com/channel/UCk8GzjMOrta8yxDcKf...  \n",
       "5    http://youtube.com/channel/UC-lHJZR3Gqxm24_Vd_...  \n",
       "..                                                 ...  \n",
       "989  http://youtube.com/channel/UCbaGn5VkOVlcRgIWAH...  \n",
       "990  http://youtube.com/channel/UCe6eisvsctSPvBhmin...  \n",
       "991  http://youtube.com/channel/UCkQO3QsgTpNTsOw6uj...  \n",
       "997  http://youtube.com/channel/UCdrHrQf0o0TO8YDntX...  \n",
       "999  http://youtube.com/channel/UCOjgc1p2hJ4GZi6pQQ...  \n",
       "\n",
       "[694 rows x 9 columns]"
      ]
     },
     "execution_count": 9,
     "metadata": {},
     "output_type": "execute_result"
    }
   ],
   "source": [
    "df1"
   ]
  },
  {
   "cell_type": "code",
   "execution_count": 10,
   "id": "b92012b1",
   "metadata": {},
   "outputs": [
    {
     "name": "stdout",
     "output_type": "stream",
     "text": [
      "<class 'pandas.core.frame.DataFrame'>\n",
      "RangeIndex: 1000 entries, 0 to 999\n",
      "Data columns (total 9 columns):\n",
      " #   Column       Non-Null Count  Dtype  \n",
      "---  ------       --------------  -----  \n",
      " 0   Rank         1000 non-null   int64  \n",
      " 1   Username     1000 non-null   object \n",
      " 2   Categories   694 non-null    object \n",
      " 3   Subscribers  1000 non-null   int64  \n",
      " 4   Country      1000 non-null   object \n",
      " 5   Visits       1000 non-null   float64\n",
      " 6   Likes        1000 non-null   int64  \n",
      " 7   Comments     1000 non-null   int64  \n",
      " 8   Links        1000 non-null   object \n",
      "dtypes: float64(1), int64(4), object(4)\n",
      "memory usage: 70.4+ KB\n"
     ]
    }
   ],
   "source": [
    "df.info()"
   ]
  },
  {
   "cell_type": "code",
   "execution_count": 11,
   "id": "f9cd3b01",
   "metadata": {},
   "outputs": [
    {
     "name": "stdout",
     "output_type": "stream",
     "text": [
      "0          tseries\n",
      "1          MrBeast\n",
      "2        CoComelon\n",
      "3         SETIndia\n",
      "4    KidsDianaShow\n",
      "Name: Username, dtype: object\n"
     ]
    }
   ],
   "source": [
    "key_variable = df['Username']\n",
    "print(key_variable.head())"
   ]
  },
  {
   "cell_type": "markdown",
   "id": "17d9d9c4",
   "metadata": {},
   "source": [
    "# missing data"
   ]
  },
  {
   "cell_type": "code",
   "execution_count": 12,
   "id": "f7d2ba12",
   "metadata": {},
   "outputs": [
    {
     "data": {
      "text/plain": [
       "Rank             0\n",
       "Username         0\n",
       "Categories     306\n",
       "Subscribers      0\n",
       "Country          0\n",
       "Visits           0\n",
       "Likes            0\n",
       "Comments         0\n",
       "Links            0\n",
       "dtype: int64"
      ]
     },
     "execution_count": 12,
     "metadata": {},
     "output_type": "execute_result"
    }
   ],
   "source": [
    "df.isnull().sum()"
   ]
  },
  {
   "cell_type": "markdown",
   "id": "4152b49f",
   "metadata": {},
   "source": [
    "# Identify Outliers"
   ]
  },
  {
   "cell_type": "code",
   "execution_count": 13,
   "id": "cc3517a2",
   "metadata": {},
   "outputs": [
    {
     "data": {
      "image/png": "[encoded data removed]",
      "text/plain": [
       "<Figure size 720x432 with 1 Axes>"
      ]
     },
     "metadata": {
      "needs_background": "light"
     },
     "output_type": "display_data"
    }
   ],
   "source": [
    "import matplotlib.pyplot as plt\n",
    "\n",
    "# Box plot to identify outliers in numerical columns\n",
    "plt.figure(figsize=(10, 6))\n",
    "df.boxplot()\n",
    "plt.title(\"Boxplot of Numerical Columns\")\n",
    "plt.show()"
   ]
  },
  {
   "cell_type": "markdown",
   "id": "d14edf43",
   "metadata": {},
   "source": [
    "# Trend Analysis:\n",
    "1) Identify trends among the top YouTube streamers. Which categories are the most popular?\n",
    "\n",
    "2) Is there a correlation between the number of subscribers and the number of likes or comments?"
   ]
  },
  {
   "cell_type": "code",
   "execution_count": 14,
   "id": "abebdf27",
   "metadata": {},
   "outputs": [
    {
     "data": {
      "image/png": "[encoded data removed]",
      "text/plain": [
       "<Figure size 432x288 with 1 Axes>"
      ]
     },
     "metadata": {
      "needs_background": "light"
     },
     "output_type": "display_data"
    },
    {
     "data": {
      "image/png": "[encoded data removed]",
      "text/plain": [
       "<Figure size 432x288 with 2 Axes>"
      ]
     },
     "metadata": {
      "needs_background": "light"
     },
     "output_type": "display_data"
    }
   ],
   "source": [
    "top_categories = df['Categories'].value_counts().head(10)\n",
    "sns.barplot(x=top_categories.index, y=top_categories.values)\n",
    "plt.xlabel('Categories')\n",
    "plt.ylabel('Number of Streamers')\n",
    "plt.title('Top 10 Popular Categories')\n",
    "plt.xticks(rotation=45)\n",
    "plt.show()\n",
    "\n",
    "# Correlation between subscribers, likes, and comments\n",
    "correlation_matrix = df[['Subscribers', 'Likes', 'Comments']].corr()\n",
    "sns.heatmap(correlation_matrix, annot=True)\n",
    "plt.title('Correlation Matrix')\n",
    "plt.show()"
   ]
  },
  {
   "cell_type": "markdown",
   "id": "8ed88b7b",
   "metadata": {},
   "source": [
    "# Audience Study:\n",
    "\n",
    "1) Analyze the distribution of streamers audiences by country. Are there regional preferences for\n",
    "specific content categories?"
   ]
  },
  {
   "cell_type": "code",
   "execution_count": 15,
   "id": "eaa070f9",
   "metadata": {},
   "outputs": [
    {
     "data": {
      "image/png": "[encoded data removed]",
      "text/plain": [
       "<Figure size 432x288 with 1 Axes>"
      ]
     },
     "metadata": {
      "needs_background": "light"
     },
     "output_type": "display_data"
    }
   ],
   "source": [
    "country_distribution = df['Country'].value_counts()\n",
    "sns.barplot(x=country_distribution.index, y=country_distribution.values)\n",
    "plt.xlabel('Country')\n",
    "plt.ylabel('Number of Streamers')\n",
    "plt.title('Streamers Distribution by Country')\n",
    "plt.xticks(rotation=45)\n",
    "plt.show()"
   ]
  },
  {
   "cell_type": "markdown",
   "id": "9d0a4d68",
   "metadata": {},
   "source": [
    "# Performance Metrics:\n",
    "1) Calculate and visualize the average number of subscribers, visits, likes, and comments.\n",
    "\n",
    "2) Are there patterns or anomalies in these metrics"
   ]
  },
  {
   "cell_type": "code",
   "execution_count": 16,
   "id": "0e177809",
   "metadata": {
    "scrolled": true
   },
   "outputs": [
    {
     "data": {
      "image/png": "[encoded data removed]",
      "text/plain": [
       "<Figure size 432x288 with 1 Axes>"
      ]
     },
     "metadata": {
      "needs_background": "light"
     },
     "output_type": "display_data"
    }
   ],
   "source": [
    "# Calculate and visualize average performance metrics\n",
    "average_metrics = df[['Subscribers', 'Visits', 'Likes', 'Comments']].mean()\n",
    "average_metrics.plot(kind='bar')\n",
    "plt.xlabel('Metrics')\n",
    "plt.ylabel('Average Count')\n",
    "plt.title('Average Performance Metrics')\n",
    "plt.show()"
   ]
  },
  {
   "cell_type": "markdown",
   "id": "d369e65d",
   "metadata": {},
   "source": [
    "# Content Categories:\n",
    "1) Explore the distribution of content categories. Which categories have the highest number of\n",
    "streamers?\n",
    "\n",
    "2) Are there specific categories with exceptional performance metrics?"
   ]
  },
  {
   "cell_type": "code",
   "execution_count": 17,
   "id": "544f9c47",
   "metadata": {},
   "outputs": [
    {
     "data": {
      "image/png": "[encoded data removed]",
      "text/plain": [
       "<Figure size 432x288 with 1 Axes>"
      ]
     },
     "metadata": {
      "needs_background": "light"
     },
     "output_type": "display_data"
    }
   ],
   "source": [
    "# Explore the distribution of content categories and their streamers count\n",
    "category_distribution = df['Categories'].value_counts()\n",
    "sns.barplot(x=category_distribution.index, y=category_distribution.values)\n",
    "plt.xlabel('Categories')\n",
    "plt.ylabel('Number of Streamers')\n",
    "plt.title('Streamers Distribution by Category')\n",
    "plt.xticks(rotation=45)\n",
    "plt.show()"
   ]
  },
  {
   "cell_type": "code",
   "execution_count": 18,
   "id": "7ef17120",
   "metadata": {},
   "outputs": [
    {
     "name": "stdout",
     "output_type": "stream",
     "text": [
      "Categories with the highest number of streamers: Música y baile               160\n",
      "Películas, Animación          61\n",
      "Música y baile, Películas     41\n",
      "Vlogs diarios                 37\n",
      "Noticias y Política           36\n",
      "Películas, Humor              34\n",
      "Animación, Videojuegos        34\n",
      "Animación, Juguetes           29\n",
      "Animación, Humor              27\n",
      "Películas                     24\n",
      "Name: Categories, dtype: int64\n"
     ]
    }
   ],
   "source": [
    "top_category = df['Categories'].value_counts().idxmax()\n",
    "print('Categories with the highest number of streamers:', top_categories)"
   ]
  },
  {
   "cell_type": "code",
   "execution_count": 19,
   "id": "96b06a5a",
   "metadata": {},
   "outputs": [
    {
     "name": "stdout",
     "output_type": "stream",
     "text": [
      "Categories with exceptional performance metrics:\n",
      "                                Subscribers        Visits          Likes  \\\n",
      "Categories                                                                 \n",
      "Diseño/arte, DIY y Life Hacks  2.570000e+07  2.600000e+06  127300.000000   \n",
      "Videojuegos                    2.498421e+07  1.387137e+06   57121.052632   \n",
      "Videojuegos, Humor             2.876471e+07  1.023968e+07  420511.764706   \n",
      "\n",
      "                                  Comments  \n",
      "Categories                                  \n",
      "Diseño/arte, DIY y Life Hacks  2200.000000  \n",
      "Videojuegos                    1760.157895  \n",
      "Videojuegos, Humor             4827.058824  \n"
     ]
    }
   ],
   "source": [
    "# Calculate average performance metrics for each category\n",
    "average_metrics_by_category = df.groupby('Categories')[['Subscribers', 'Visits', 'Likes', 'Comments']].mean()\n",
    "\n",
    "# Identify categories with exceptional performance (e.g., above-average subscribers, likes, and comments)\n",
    "exceptional_categories = average_metrics_by_category[(average_metrics_by_category['Subscribers'] > df['Subscribers'].mean()) &\n",
    "                                                      (average_metrics_by_category['Likes'] > df['Likes'].mean()) &\n",
    "                                                      (average_metrics_by_category['Comments'] > df['Comments'].mean())]\n",
    "print('Categories with exceptional performance metrics:')\n",
    "print(exceptional_categories)"
   ]
  },
  {
   "cell_type": "markdown",
   "id": "33509f8e",
   "metadata": {},
   "source": [
    "# Brands and Collaborations:\n",
    "\n",
    "1)Analyze whether streamers with high performance metrics receive more brand collaborations and\n",
    "marketing campaigns"
   ]
  },
  {
   "cell_type": "code",
   "execution_count": 20,
   "id": "d0e603dd",
   "metadata": {},
   "outputs": [
    {
     "data": {
      "text/html": [
       "<div>\n",
       "<style scoped>\n",
       "    .dataframe tbody tr th:only-of-type {\n",
       "        vertical-align: middle;\n",
       "    }\n",
       "\n",
       "    .dataframe tbody tr th {\n",
       "        vertical-align: top;\n",
       "    }\n",
       "\n",
       "    .dataframe thead th {\n",
       "        text-align: right;\n",
       "    }\n",
       "</style>\n",
       "<table border=\"1\" class=\"dataframe\">\n",
       "  <thead>\n",
       "    <tr style=\"text-align: right;\">\n",
       "      <th></th>\n",
       "      <th>Rank</th>\n",
       "      <th>Username</th>\n",
       "      <th>Categories</th>\n",
       "      <th>Subscribers</th>\n",
       "      <th>Country</th>\n",
       "      <th>Visits</th>\n",
       "      <th>Likes</th>\n",
       "      <th>Comments</th>\n",
       "      <th>Links</th>\n",
       "    </tr>\n",
       "  </thead>\n",
       "  <tbody>\n",
       "    <tr>\n",
       "      <th>0</th>\n",
       "      <td>1</td>\n",
       "      <td>tseries</td>\n",
       "      <td>Música y baile</td>\n",
       "      <td>249500000</td>\n",
       "      <td>India</td>\n",
       "      <td>86200.0</td>\n",
       "      <td>2700</td>\n",
       "      <td>78</td>\n",
       "      <td>http://youtube.com/channel/UCq-Fj5jknLsUf-MWSy...</td>\n",
       "    </tr>\n",
       "    <tr>\n",
       "      <th>1</th>\n",
       "      <td>2</td>\n",
       "      <td>MrBeast</td>\n",
       "      <td>Videojuegos, Humor</td>\n",
       "      <td>183500000</td>\n",
       "      <td>Estados Unidos</td>\n",
       "      <td>117400000.0</td>\n",
       "      <td>5300000</td>\n",
       "      <td>18500</td>\n",
       "      <td>http://youtube.com/channel/UCX6OQ3DkcsbYNE6H8u...</td>\n",
       "    </tr>\n",
       "    <tr>\n",
       "      <th>2</th>\n",
       "      <td>3</td>\n",
       "      <td>CoComelon</td>\n",
       "      <td>Educación</td>\n",
       "      <td>165500000</td>\n",
       "      <td>Unknown</td>\n",
       "      <td>7000000.0</td>\n",
       "      <td>24700</td>\n",
       "      <td>0</td>\n",
       "      <td>http://youtube.com/channel/UCbCmjCuTUZos6Inko4...</td>\n",
       "    </tr>\n",
       "    <tr>\n",
       "      <th>3</th>\n",
       "      <td>4</td>\n",
       "      <td>SETIndia</td>\n",
       "      <td>NaN</td>\n",
       "      <td>162600000</td>\n",
       "      <td>India</td>\n",
       "      <td>15600.0</td>\n",
       "      <td>166</td>\n",
       "      <td>9</td>\n",
       "      <td>http://youtube.com/channel/UCpEhnqL0y41EpW2TvW...</td>\n",
       "    </tr>\n",
       "    <tr>\n",
       "      <th>4</th>\n",
       "      <td>5</td>\n",
       "      <td>KidsDianaShow</td>\n",
       "      <td>Animación, Juguetes</td>\n",
       "      <td>113500000</td>\n",
       "      <td>Unknown</td>\n",
       "      <td>3900000.0</td>\n",
       "      <td>12400</td>\n",
       "      <td>0</td>\n",
       "      <td>http://youtube.com/channel/UCk8GzjMOrta8yxDcKf...</td>\n",
       "    </tr>\n",
       "    <tr>\n",
       "      <th>...</th>\n",
       "      <td>...</td>\n",
       "      <td>...</td>\n",
       "      <td>...</td>\n",
       "      <td>...</td>\n",
       "      <td>...</td>\n",
       "      <td>...</td>\n",
       "      <td>...</td>\n",
       "      <td>...</td>\n",
       "      <td>...</td>\n",
       "    </tr>\n",
       "    <tr>\n",
       "      <th>995</th>\n",
       "      <td>996</td>\n",
       "      <td>hamzymukbang</td>\n",
       "      <td>NaN</td>\n",
       "      <td>11700000</td>\n",
       "      <td>Estados Unidos</td>\n",
       "      <td>397400.0</td>\n",
       "      <td>14000</td>\n",
       "      <td>124</td>\n",
       "      <td>http://youtube.com/channel/UCPKNKldggioffXPkSm...</td>\n",
       "    </tr>\n",
       "    <tr>\n",
       "      <th>996</th>\n",
       "      <td>997</td>\n",
       "      <td>Adaahqueen</td>\n",
       "      <td>NaN</td>\n",
       "      <td>11700000</td>\n",
       "      <td>India</td>\n",
       "      <td>1100000.0</td>\n",
       "      <td>92500</td>\n",
       "      <td>164</td>\n",
       "      <td>http://youtube.com/channel/UCk3fFpqI5kDMf__mUP...</td>\n",
       "    </tr>\n",
       "    <tr>\n",
       "      <th>997</th>\n",
       "      <td>998</td>\n",
       "      <td>LittleAngelIndonesia</td>\n",
       "      <td>Música y baile</td>\n",
       "      <td>11700000</td>\n",
       "      <td>Unknown</td>\n",
       "      <td>211400.0</td>\n",
       "      <td>745</td>\n",
       "      <td>0</td>\n",
       "      <td>http://youtube.com/channel/UCdrHrQf0o0TO8YDntX...</td>\n",
       "    </tr>\n",
       "    <tr>\n",
       "      <th>998</th>\n",
       "      <td>999</td>\n",
       "      <td>PenMultiplex</td>\n",
       "      <td>NaN</td>\n",
       "      <td>11700000</td>\n",
       "      <td>India</td>\n",
       "      <td>14000.0</td>\n",
       "      <td>81</td>\n",
       "      <td>1</td>\n",
       "      <td>http://youtube.com/channel/UCObyBrdrtQ20BU9PxH...</td>\n",
       "    </tr>\n",
       "    <tr>\n",
       "      <th>999</th>\n",
       "      <td>1000</td>\n",
       "      <td>OneindiaHindi</td>\n",
       "      <td>Noticias y Política</td>\n",
       "      <td>11700000</td>\n",
       "      <td>India</td>\n",
       "      <td>2200.0</td>\n",
       "      <td>31</td>\n",
       "      <td>1</td>\n",
       "      <td>http://youtube.com/channel/UCOjgc1p2hJ4GZi6pQQ...</td>\n",
       "    </tr>\n",
       "  </tbody>\n",
       "</table>\n",
       "<p>1000 rows × 9 columns</p>\n",
       "</div>"
      ],
      "text/plain": [
       "     Rank              Username           Categories  Subscribers  \\\n",
       "0       1               tseries       Música y baile    249500000   \n",
       "1       2               MrBeast   Videojuegos, Humor    183500000   \n",
       "2       3             CoComelon            Educación    165500000   \n",
       "3       4              SETIndia                  NaN    162600000   \n",
       "4       5         KidsDianaShow  Animación, Juguetes    113500000   \n",
       "..    ...                   ...                  ...          ...   \n",
       "995   996          hamzymukbang                  NaN     11700000   \n",
       "996   997            Adaahqueen                  NaN     11700000   \n",
       "997   998  LittleAngelIndonesia       Música y baile     11700000   \n",
       "998   999          PenMultiplex                  NaN     11700000   \n",
       "999  1000         OneindiaHindi  Noticias y Política     11700000   \n",
       "\n",
       "            Country       Visits    Likes  Comments  \\\n",
       "0             India      86200.0     2700        78   \n",
       "1    Estados Unidos  117400000.0  5300000     18500   \n",
       "2           Unknown    7000000.0    24700         0   \n",
       "3             India      15600.0      166         9   \n",
       "4           Unknown    3900000.0    12400         0   \n",
       "..              ...          ...      ...       ...   \n",
       "995  Estados Unidos     397400.0    14000       124   \n",
       "996           India    1100000.0    92500       164   \n",
       "997         Unknown     211400.0      745         0   \n",
       "998           India      14000.0       81         1   \n",
       "999           India       2200.0       31         1   \n",
       "\n",
       "                                                 Links  \n",
       "0    http://youtube.com/channel/UCq-Fj5jknLsUf-MWSy...  \n",
       "1    http://youtube.com/channel/UCX6OQ3DkcsbYNE6H8u...  \n",
       "2    http://youtube.com/channel/UCbCmjCuTUZos6Inko4...  \n",
       "3    http://youtube.com/channel/UCpEhnqL0y41EpW2TvW...  \n",
       "4    http://youtube.com/channel/UCk8GzjMOrta8yxDcKf...  \n",
       "..                                                 ...  \n",
       "995  http://youtube.com/channel/UCPKNKldggioffXPkSm...  \n",
       "996  http://youtube.com/channel/UCk3fFpqI5kDMf__mUP...  \n",
       "997  http://youtube.com/channel/UCdrHrQf0o0TO8YDntX...  \n",
       "998  http://youtube.com/channel/UCObyBrdrtQ20BU9PxH...  \n",
       "999  http://youtube.com/channel/UCOjgc1p2hJ4GZi6pQQ...  \n",
       "\n",
       "[1000 rows x 9 columns]"
      ]
     },
     "execution_count": 20,
     "metadata": {},
     "output_type": "execute_result"
    }
   ],
   "source": [
    "df"
   ]
  },
  {
   "cell_type": "code",
   "execution_count": 21,
   "id": "0881707a",
   "metadata": {},
   "outputs": [
    {
     "name": "stdout",
     "output_type": "stream",
     "text": [
      "Total Brand Collaborations for High-Performing Streamers: 1200532049270780.0\n"
     ]
    }
   ],
   "source": [
    "# Example calculation: Create 'brand_collaborations' column by multiplying 'some_column' and 'another_column'\n",
    "df['brand_collaborations'] = df['Likes'] * df[\"Visits\"]\n",
    "\n",
    "# Calculate the mean of Subscribers column\n",
    "subscribers_mean = df['Subscribers'].mean()\n",
    "\n",
    "# Filter high-performing streamers\n",
    "high_performers = df[df['Subscribers'] > subscribers_mean]\n",
    "\n",
    "# Calculate total brand collaborations for high-performing streamers\n",
    "total_brand_collaborations = high_performers['brand_collaborations'].sum()\n",
    "\n",
    "print('Total Brand Collaborations for High-Performing Streamers:', total_brand_collaborations)"
   ]
  },
  {
   "cell_type": "markdown",
   "id": "9b672c74",
   "metadata": {},
   "source": [
    "# Benchmarking:\n",
    "1) Identify streamers with above-average performance in terms of subscribers, visits, likes, and comments.\n",
    "\n",
    "2) Who are the top-performing content creators?"
   ]
  },
  {
   "cell_type": "code",
   "execution_count": 22,
   "id": "47c51baf",
   "metadata": {},
   "outputs": [
    {
     "data": {
      "text/plain": [
       "Index(['Rank', 'Username', 'Categories', 'Subscribers', 'Country', 'Visits',\n",
       "       'Likes', 'Comments', 'Links', 'brand_collaborations'],\n",
       "      dtype='object')"
      ]
     },
     "execution_count": 22,
     "metadata": {},
     "output_type": "execute_result"
    }
   ],
   "source": [
    "df.columns"
   ]
  },
  {
   "cell_type": "code",
   "execution_count": 23,
   "id": "f75e3fa7",
   "metadata": {},
   "outputs": [],
   "source": [
    "df['StreamerName'] = df['Visits'] * df[\"Likes\"]\n"
   ]
  },
  {
   "cell_type": "code",
   "execution_count": 24,
   "id": "c9349ac3",
   "metadata": {},
   "outputs": [],
   "source": [
    "average_subscribers = df['Subscribers'].mean()\n",
    "average_visits = df['Visits'].mean()\n",
    "average_likes = df['Likes'].mean()\n",
    "average_comments = df['Comments'].mean()"
   ]
  },
  {
   "cell_type": "code",
   "execution_count": 25,
   "id": "6a59ff95",
   "metadata": {
    "scrolled": true
   },
   "outputs": [
    {
     "name": "stdout",
     "output_type": "stream",
     "text": [
      "     StreamerName  Subscribers       Visits    Likes  Comments\n",
      "1    6.222200e+14    183500000  117400000.0  5300000     18500\n",
      "5    4.735200e+11    111500000    2400000.0   197300      4900\n",
      "26   8.294500e+11     59700000    5300000.0   156500      4200\n",
      "34   1.291720e+12     54100000    4300000.0   300400     15000\n",
      "39   2.342000e+11     48600000    2000000.0   117100      3000\n",
      "43   3.204880e+12     47300000    9700000.0   330400     22000\n",
      "58   4.034800e+11     43400000    2200000.0   183400      1800\n",
      "62   1.437890e+12     42100000    5300000.0   271300     16000\n",
      "64   3.222500e+11     41100000    2500000.0   128900      1800\n",
      "70   9.555000e+10     39600000    1300000.0    73500      1600\n",
      "96   1.941000e+11     36300000    1500000.0   129400      4900\n",
      "98   2.119160e+12     35600000    6200000.0   341800     16500\n",
      "100  2.656500e+11     35500000    2100000.0   126500      3800\n",
      "122  1.260600e+12     32700000    3300000.0   382000     11400\n",
      "123  4.013100e+12     32600000    6500000.0   617400     26000\n",
      "131  3.173940e+12     32000000    7700000.0   412200     17000\n",
      "132  1.020360e+12     31900000    3300000.0   309200     19000\n",
      "136  4.155000e+14     31300000   83100000.0  5000000     11600\n",
      "145  1.334400e+11     30400000    1600000.0    83400      2300\n",
      "153  8.959000e+13     29800000   52700000.0  1700000     82800\n",
      "176  1.193220e+12     27800000    4200000.0   284100      8600\n",
      "177  9.975000e+11     27800000    3500000.0   285000     52500\n",
      "179  9.862400e+11     27600000    6400000.0   154100      5000\n",
      "180  1.287000e+11     27500000    1500000.0    85800      1600\n",
      "195  1.572800e+11     26100000    1600000.0    98300      7600\n",
      "206  1.187880e+12     25700000    5700000.0   208400      1700\n",
      "207  3.309800e+11     25700000    2600000.0   127300      2200\n",
      "234  2.729600e+11     24300000    3200000.0    85300      5100\n",
      "238  4.427760e+12     24300000    7600000.0   582600      5900\n",
      "241  3.996000e+11     24000000    3000000.0   133200      3600\n",
      "266  1.800300e+11     23100000    1700000.0   105900      3900\n",
      "272  1.265920e+12     22900000    4300000.0   294400      1300\n",
      "278  2.749500e+12     22700000   11700000.0   235000     10000\n",
      "281  1.016600e+11     22700000    1700000.0    59800      1800\n",
      "282  2.140880e+12     22700000    5600000.0   382300      8900\n",
      "288  6.912250e+12     22500000   21500000.0   321500      5900\n",
      "300  9.128040e+12     21900000   12900000.0   707600      2100\n",
      "302  3.149000e+11     21900000    4700000.0    67000      6600\n"
     ]
    }
   ],
   "source": [
    "above_average_streamers = df[\n",
    "    (df['Subscribers'] > average_subscribers) &\n",
    "    (df['Visits'] > average_visits) &\n",
    "    (df['Likes'] > average_likes) &\n",
    "    (df['Comments'] > average_comments)\n",
    "]\n",
    "\n",
    "# Print the above-average streamers\n",
    "print(above_average_streamers[['StreamerName', 'Subscribers', 'Visits', 'Likes', 'Comments']])"
   ]
  },
  {
   "cell_type": "code",
   "execution_count": 26,
   "id": "11753484",
   "metadata": {},
   "outputs": [
    {
     "name": "stdout",
     "output_type": "stream",
     "text": [
      "Top-performing content creators based on subscribers:\n",
      "   StreamerName  Subscribers\n",
      "0  2.327400e+08    249500000\n",
      "1  6.222200e+14    183500000\n",
      "2  1.729000e+11    165500000\n",
      "3  2.589600e+06    162600000\n",
      "4  4.836000e+10    113500000\n",
      "5  4.735200e+11    111500000\n",
      "6  7.280000e+10    107500000\n",
      "7  9.061000e+10    101400000\n",
      "8  1.931800e+08     99700000\n",
      "9  1.162350e+09     97200000\n"
     ]
    }
   ],
   "source": [
    "top_performers_subscribers = df.nlargest(10, 'Subscribers')\n",
    "print(\"Top-performing content creators based on subscribers:\")\n",
    "print(top_performers_subscribers[['StreamerName', 'Subscribers']])\n"
   ]
  },
  {
   "cell_type": "markdown",
   "id": "c1e4a94a",
   "metadata": {},
   "source": [
    "# Content Recommendations:\n",
    "\n",
    "1) Propose a system for enhancing content recommendations to YouTube users based on streamers categories and performance metrics\n",
    "\n"
   ]
  },
  {
   "cell_type": "code",
   "execution_count": 27,
   "id": "e3e7b7db",
   "metadata": {},
   "outputs": [],
   "source": [
    "from sklearn.preprocessing import LabelEncoder"
   ]
  },
  {
   "cell_type": "code",
   "execution_count": 28,
   "id": "5b1a62cb",
   "metadata": {},
   "outputs": [],
   "source": [
    "import warnings\n",
    "warnings.filterwarnings(\"ignore\")\n"
   ]
  },
  {
   "cell_type": "code",
   "execution_count": 29,
   "id": "5c9d1b2d",
   "metadata": {},
   "outputs": [],
   "source": [
    "label_encoder=LabelEncoder()"
   ]
  },
  {
   "cell_type": "code",
   "execution_count": 30,
   "id": "8caf1a01",
   "metadata": {},
   "outputs": [],
   "source": [
    "df['CategoriesEncoded'] = label_encoder.fit_transform(df['Categories'].astype(str))"
   ]
  },
  {
   "cell_type": "code",
   "execution_count": 31,
   "id": "ef556066",
   "metadata": {},
   "outputs": [],
   "source": [
    "features = ['CategoriesEncoded', 'Subscribers', 'Visits', 'Likes', 'Comments']\n",
    "X = df[features]"
   ]
  },
  {
   "cell_type": "code",
   "execution_count": 32,
   "id": "43db4776",
   "metadata": {},
   "outputs": [],
   "source": [
    "from sklearn.preprocessing import StandardScaler\n",
    "\n",
    "scaler = StandardScaler()\n",
    "X_scaled = scaler.fit_transform(X)"
   ]
  },
  {
   "cell_type": "code",
   "execution_count": 33,
   "id": "3c80cf8a",
   "metadata": {},
   "outputs": [
    {
     "data": {
      "text/html": [
       "<style>#sk-container-id-1 {color: black;}#sk-container-id-1 pre{padding: 0;}#sk-container-id-1 div.sk-toggleable {background-color: white;}#sk-container-id-1 label.sk-toggleable__label {cursor: pointer;display: block;width: 100%;margin-bottom: 0;padding: 0.3em;box-sizing: border-box;text-align: center;}#sk-container-id-1 label.sk-toggleable__label-arrow:before {content: \"▸\";float: left;margin-right: 0.25em;color: #696969;}#sk-container-id-1 label.sk-toggleable__label-arrow:hover:before {color: black;}#sk-container-id-1 div.sk-estimator:hover label.sk-toggleable__label-arrow:before {color: black;}#sk-container-id-1 div.sk-toggleable__content {max-height: 0;max-width: 0;overflow: hidden;text-align: left;background-color: #f0f8ff;}#sk-container-id-1 div.sk-toggleable__content pre {margin: 0.2em;color: black;border-radius: 0.25em;background-color: #f0f8ff;}#sk-container-id-1 input.sk-toggleable__control:checked~div.sk-toggleable__content {max-height: 200px;max-width: 100%;overflow: auto;}#sk-container-id-1 input.sk-toggleable__control:checked~label.sk-toggleable__label-arrow:before {content: \"▾\";}#sk-container-id-1 div.sk-estimator input.sk-toggleable__control:checked~label.sk-toggleable__label {background-color: #d4ebff;}#sk-container-id-1 div.sk-label input.sk-toggleable__control:checked~label.sk-toggleable__label {background-color: #d4ebff;}#sk-container-id-1 input.sk-hidden--visually {border: 0;clip: rect(1px 1px 1px 1px);clip: rect(1px, 1px, 1px, 1px);height: 1px;margin: -1px;overflow: hidden;padding: 0;position: absolute;width: 1px;}#sk-container-id-1 div.sk-estimator {font-family: monospace;background-color: #f0f8ff;border: 1px dotted black;border-radius: 0.25em;box-sizing: border-box;margin-bottom: 0.5em;}#sk-container-id-1 div.sk-estimator:hover {background-color: #d4ebff;}#sk-container-id-1 div.sk-parallel-item::after {content: \"\";width: 100%;border-bottom: 1px solid gray;flex-grow: 1;}#sk-container-id-1 div.sk-label:hover label.sk-toggleable__label {background-color: #d4ebff;}#sk-container-id-1 div.sk-serial::before {content: \"\";position: absolute;border-left: 1px solid gray;box-sizing: border-box;top: 0;bottom: 0;left: 50%;z-index: 0;}#sk-container-id-1 div.sk-serial {display: flex;flex-direction: column;align-items: center;background-color: white;padding-right: 0.2em;padding-left: 0.2em;position: relative;}#sk-container-id-1 div.sk-item {position: relative;z-index: 1;}#sk-container-id-1 div.sk-parallel {display: flex;align-items: stretch;justify-content: center;background-color: white;position: relative;}#sk-container-id-1 div.sk-item::before, #sk-container-id-1 div.sk-parallel-item::before {content: \"\";position: absolute;border-left: 1px solid gray;box-sizing: border-box;top: 0;bottom: 0;left: 50%;z-index: -1;}#sk-container-id-1 div.sk-parallel-item {display: flex;flex-direction: column;z-index: 1;position: relative;background-color: white;}#sk-container-id-1 div.sk-parallel-item:first-child::after {align-self: flex-end;width: 50%;}#sk-container-id-1 div.sk-parallel-item:last-child::after {align-self: flex-start;width: 50%;}#sk-container-id-1 div.sk-parallel-item:only-child::after {width: 0;}#sk-container-id-1 div.sk-dashed-wrapped {border: 1px dashed gray;margin: 0 0.4em 0.5em 0.4em;box-sizing: border-box;padding-bottom: 0.4em;background-color: white;}#sk-container-id-1 div.sk-label label {font-family: monospace;font-weight: bold;display: inline-block;line-height: 1.2em;}#sk-container-id-1 div.sk-label-container {text-align: center;}#sk-container-id-1 div.sk-container {/* jupyter's `normalize.less` sets `[hidden] { display: none; }` but bootstrap.min.css set `[hidden] { display: none !important; }` so we also need the `!important` here to be able to override the default hidden behavior on the sphinx rendered scikit-learn.org. See: https://github.com/scikit-learn/scikit-learn/issues/21755 */display: inline-block !important;position: relative;}#sk-container-id-1 div.sk-text-repr-fallback {display: none;}</style><div id=\"sk-container-id-1\" class=\"sk-top-container\"><div class=\"sk-text-repr-fallback\"><pre>NearestNeighbors(metric=&#x27;cosine&#x27;)</pre><b>In a Jupyter environment, please rerun this cell to show the HTML representation or trust the notebook. <br />On GitHub, the HTML representation is unable to render, please try loading this page with nbviewer.org.</b></div><div class=\"sk-container\" hidden><div class=\"sk-item\"><div class=\"sk-estimator sk-toggleable\"><input class=\"sk-toggleable__control sk-hidden--visually\" id=\"sk-estimator-id-1\" type=\"checkbox\" checked><label for=\"sk-estimator-id-1\" class=\"sk-toggleable__label sk-toggleable__label-arrow\">NearestNeighbors</label><div class=\"sk-toggleable__content\"><pre>NearestNeighbors(metric=&#x27;cosine&#x27;)</pre></div></div></div></div></div>"
      ],
      "text/plain": [
       "NearestNeighbors(metric='cosine')"
      ]
     },
     "execution_count": 33,
     "metadata": {},
     "output_type": "execute_result"
    }
   ],
   "source": [
    "from sklearn.neighbors import NearestNeighbors\n",
    "\n",
    "categories_knn = NearestNeighbors(n_neighbors=5, metric='cosine')\n",
    "categories_knn.fit(X_scaled)"
   ]
  },
  {
   "cell_type": "code",
   "execution_count": 34,
   "id": "bba84f74",
   "metadata": {},
   "outputs": [
    {
     "data": {
      "text/html": [
       "<style>#sk-container-id-2 {color: black;}#sk-container-id-2 pre{padding: 0;}#sk-container-id-2 div.sk-toggleable {background-color: white;}#sk-container-id-2 label.sk-toggleable__label {cursor: pointer;display: block;width: 100%;margin-bottom: 0;padding: 0.3em;box-sizing: border-box;text-align: center;}#sk-container-id-2 label.sk-toggleable__label-arrow:before {content: \"▸\";float: left;margin-right: 0.25em;color: #696969;}#sk-container-id-2 label.sk-toggleable__label-arrow:hover:before {color: black;}#sk-container-id-2 div.sk-estimator:hover label.sk-toggleable__label-arrow:before {color: black;}#sk-container-id-2 div.sk-toggleable__content {max-height: 0;max-width: 0;overflow: hidden;text-align: left;background-color: #f0f8ff;}#sk-container-id-2 div.sk-toggleable__content pre {margin: 0.2em;color: black;border-radius: 0.25em;background-color: #f0f8ff;}#sk-container-id-2 input.sk-toggleable__control:checked~div.sk-toggleable__content {max-height: 200px;max-width: 100%;overflow: auto;}#sk-container-id-2 input.sk-toggleable__control:checked~label.sk-toggleable__label-arrow:before {content: \"▾\";}#sk-container-id-2 div.sk-estimator input.sk-toggleable__control:checked~label.sk-toggleable__label {background-color: #d4ebff;}#sk-container-id-2 div.sk-label input.sk-toggleable__control:checked~label.sk-toggleable__label {background-color: #d4ebff;}#sk-container-id-2 input.sk-hidden--visually {border: 0;clip: rect(1px 1px 1px 1px);clip: rect(1px, 1px, 1px, 1px);height: 1px;margin: -1px;overflow: hidden;padding: 0;position: absolute;width: 1px;}#sk-container-id-2 div.sk-estimator {font-family: monospace;background-color: #f0f8ff;border: 1px dotted black;border-radius: 0.25em;box-sizing: border-box;margin-bottom: 0.5em;}#sk-container-id-2 div.sk-estimator:hover {background-color: #d4ebff;}#sk-container-id-2 div.sk-parallel-item::after {content: \"\";width: 100%;border-bottom: 1px solid gray;flex-grow: 1;}#sk-container-id-2 div.sk-label:hover label.sk-toggleable__label {background-color: #d4ebff;}#sk-container-id-2 div.sk-serial::before {content: \"\";position: absolute;border-left: 1px solid gray;box-sizing: border-box;top: 0;bottom: 0;left: 50%;z-index: 0;}#sk-container-id-2 div.sk-serial {display: flex;flex-direction: column;align-items: center;background-color: white;padding-right: 0.2em;padding-left: 0.2em;position: relative;}#sk-container-id-2 div.sk-item {position: relative;z-index: 1;}#sk-container-id-2 div.sk-parallel {display: flex;align-items: stretch;justify-content: center;background-color: white;position: relative;}#sk-container-id-2 div.sk-item::before, #sk-container-id-2 div.sk-parallel-item::before {content: \"\";position: absolute;border-left: 1px solid gray;box-sizing: border-box;top: 0;bottom: 0;left: 50%;z-index: -1;}#sk-container-id-2 div.sk-parallel-item {display: flex;flex-direction: column;z-index: 1;position: relative;background-color: white;}#sk-container-id-2 div.sk-parallel-item:first-child::after {align-self: flex-end;width: 50%;}#sk-container-id-2 div.sk-parallel-item:last-child::after {align-self: flex-start;width: 50%;}#sk-container-id-2 div.sk-parallel-item:only-child::after {width: 0;}#sk-container-id-2 div.sk-dashed-wrapped {border: 1px dashed gray;margin: 0 0.4em 0.5em 0.4em;box-sizing: border-box;padding-bottom: 0.4em;background-color: white;}#sk-container-id-2 div.sk-label label {font-family: monospace;font-weight: bold;display: inline-block;line-height: 1.2em;}#sk-container-id-2 div.sk-label-container {text-align: center;}#sk-container-id-2 div.sk-container {/* jupyter's `normalize.less` sets `[hidden] { display: none; }` but bootstrap.min.css set `[hidden] { display: none !important; }` so we also need the `!important` here to be able to override the default hidden behavior on the sphinx rendered scikit-learn.org. See: https://github.com/scikit-learn/scikit-learn/issues/21755 */display: inline-block !important;position: relative;}#sk-container-id-2 div.sk-text-repr-fallback {display: none;}</style><div id=\"sk-container-id-2\" class=\"sk-top-container\"><div class=\"sk-text-repr-fallback\"><pre>NearestNeighbors(metric=&#x27;cosine&#x27;)</pre><b>In a Jupyter environment, please rerun this cell to show the HTML representation or trust the notebook. <br />On GitHub, the HTML representation is unable to render, please try loading this page with nbviewer.org.</b></div><div class=\"sk-container\" hidden><div class=\"sk-item\"><div class=\"sk-estimator sk-toggleable\"><input class=\"sk-toggleable__control sk-hidden--visually\" id=\"sk-estimator-id-2\" type=\"checkbox\" checked><label for=\"sk-estimator-id-2\" class=\"sk-toggleable__label sk-toggleable__label-arrow\">NearestNeighbors</label><div class=\"sk-toggleable__content\"><pre>NearestNeighbors(metric=&#x27;cosine&#x27;)</pre></div></div></div></div></div>"
      ],
      "text/plain": [
       "NearestNeighbors(metric='cosine')"
      ]
     },
     "execution_count": 34,
     "metadata": {},
     "output_type": "execute_result"
    }
   ],
   "source": [
    "performance_knn = NearestNeighbors(n_neighbors=5, metric='cosine')\n",
    "performance_knn.fit(X_scaled)"
   ]
  },
  {
   "cell_type": "code",
   "execution_count": 35,
   "id": "5ecdc726",
   "metadata": {},
   "outputs": [],
   "source": [
    "user_preferences = [1, 1000000, 500000, 20000, 5000]"
   ]
  },
  {
   "cell_type": "code",
   "execution_count": 36,
   "id": "5a9d1986",
   "metadata": {},
   "outputs": [],
   "source": [
    "normalized_preferences = scaler.transform([user_preferences])\n"
   ]
  },
  {
   "cell_type": "code",
   "execution_count": 37,
   "id": "172cfc1e",
   "metadata": {
    "scrolled": false
   },
   "outputs": [
    {
     "name": "stdout",
     "output_type": "stream",
     "text": [
      "Recommended streamers based on categories:\n",
      "0    232740000.0\n",
      "0    232740000.0\n",
      "0    232740000.0\n",
      "0    232740000.0\n",
      "0    232740000.0\n",
      "Name: StreamerName, dtype: float64\n",
      "Recommended streamers based on performance metrics:\n",
      "0    232740000.0\n",
      "0    232740000.0\n",
      "0    232740000.0\n",
      "0    232740000.0\n",
      "0    232740000.0\n",
      "Name: StreamerName, dtype: float64\n"
     ]
    }
   ],
   "source": [
    "categories_indices = categories_knn.kneighbors(normalized_preferences, n_neighbors=5)\n",
    "\n",
    "# Find similar streamers based on performance metrics\n",
    "performance_indices = performance_knn.kneighbors(normalized_preferences, n_neighbors=5)\n",
    "\n",
    "# Get recommended streamers based on categories\n",
    "recommended_categories = df.iloc[categories_indices[0].flatten()]['StreamerName']\n",
    "\n",
    "# Get recommended streamers based on performance metrics\n",
    "recommended_performance = df.iloc[performance_indices[0].flatten()]['StreamerName']\n",
    "\n",
    "print(\"Recommended streamers based on categories:\")\n",
    "print(recommended_categories)\n",
    "\n",
    "print(\"Recommended streamers based on performance metrics:\")\n",
    "print(recommended_performance)"
   ]
  },
  {
   "cell_type": "code",
   "execution_count": null,
   "id": "0af29822",
   "metadata": {},
   "outputs": [],
   "source": []
  }
 ],
 "metadata": {
  "kernelspec": {
   "display_name": "Python 3 (ipykernel)",
   "language": "python",
   "name": "python3"
  },
  "language_info": {
   "codemirror_mode": {
    "name": "ipython",
    "version": 3
   },
   "file_extension": ".py",
   "mimetype": "text/x-python",
   "name": "python",
   "nbconvert_exporter": "python",
   "pygments_lexer": "ipython3",
   "version": "3.9.12"
  }
 },
 "nbformat": 4,
 "nbformat_minor": 5
}
